{
 "cells": [
  {
   "cell_type": "code",
   "execution_count": 1,
   "id": "684e60de",
   "metadata": {},
   "outputs": [
    {
     "name": "stdout",
     "output_type": "stream",
     "text": [
      "99% Confidence Interval using Sample Standard Deviation:\n",
      "Confidence Interval: (1.090197338451367, 1.3871359948819662)\n",
      "\n",
      "99% Confidence Interval using Known Population Standard Deviation:\n",
      "Confidence Interval: (1.0849431688867082, 1.392390164446625)\n"
     ]
    }
   ],
   "source": [
    "import numpy as np\n",
    "from scipy.stats import t\n",
    "\n",
    "# Sample data\n",
    "durability = np.array([1.13, 1.55, 1.43, 0.92, 1.25, 1.36, 1.32, 0.85, 1.07, 1.48, 1.20, 1.33, 1.18, 1.22, 1.29])\n",
    "sample_size = len(durability)\n",
    "\n",
    "# Sample mean\n",
    "sample_mean = np.mean(durability)\n",
    "\n",
    "# Sample standard deviation\n",
    "sample_std = np.std(durability, ddof=1)\n",
    "\n",
    "# Degrees of freedom\n",
    "df = sample_size - 1\n",
    "\n",
    "# Confidence level\n",
    "confidence_level = 0.99\n",
    "\n",
    "# Critical value from t-distribution\n",
    "t_critical = t.ppf((1 + confidence_level) / 2, df)\n",
    "\n",
    "# Margin of error\n",
    "margin_of_error = t_critical * (sample_std / np.sqrt(sample_size))\n",
    "\n",
    "# Confidence interval\n",
    "confidence_interval_t = (sample_mean - margin_of_error, sample_mean + margin_of_error)\n",
    "\n",
    "print(\"99% Confidence Interval using Sample Standard Deviation:\")\n",
    "print(\"Confidence Interval:\", confidence_interval_t)\n",
    "\n",
    "# Known population standard deviation\n",
    "population_std = 0.2\n",
    "\n",
    "# Critical value from standard normal distribution\n",
    "z_critical = t.ppf((1 + confidence_level) / 2, df)\n",
    "\n",
    "# Margin of error\n",
    "margin_of_error_population = z_critical * (population_std / np.sqrt(sample_size))\n",
    "\n",
    "# Confidence interval\n",
    "confidence_interval_z = (sample_mean - margin_of_error_population, sample_mean + margin_of_error_population)\n",
    "\n",
    "print(\"\\n99% Confidence Interval using Known Population Standard Deviation:\")\n",
    "print(\"Confidence Interval:\", confidence_interval_z)\n"
   ]
  },
  {
   "cell_type": "code",
   "execution_count": null,
   "id": "b6d76627",
   "metadata": {},
   "outputs": [],
   "source": []
  }
 ],
 "metadata": {
  "kernelspec": {
   "display_name": "Python 3 (ipykernel)",
   "language": "python",
   "name": "python3"
  },
  "language_info": {
   "codemirror_mode": {
    "name": "ipython",
    "version": 3
   },
   "file_extension": ".py",
   "mimetype": "text/x-python",
   "name": "python",
   "nbconvert_exporter": "python",
   "pygments_lexer": "ipython3",
   "version": "3.11.5"
  }
 },
 "nbformat": 4,
 "nbformat_minor": 5
}
